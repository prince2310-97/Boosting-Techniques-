{
  "nbformat": 4,
  "nbformat_minor": 0,
  "metadata": {
    "colab": {
      "provenance": []
    },
    "kernelspec": {
      "name": "python3",
      "display_name": "Python 3"
    },
    "language_info": {
      "name": "python"
    }
  },
  "cells": [
    {
      "cell_type": "markdown",
      "source": [],
      "metadata": {
        "id": "Smltb0nkpgD0"
      }
    },
    {
      "cell_type": "markdown",
      "source": [
        "Question 1: What is Boosting in Machine Learning? Explain how it improves weak\n",
        "learners.\n",
        "\n",
        "- Boosting is an ensemble learning technique that combines multiple weak learners (models that perform slightly better than random guessing) to create a strong learner. It works by training models sequentially, where each new model focuses on correcting the mistakes of the previous ones.\n",
        "\n",
        "- How does it improve weak learners--\n",
        "\n",
        "1] Weighted Training: Misclassified samples are given higher weights so the next learner focuses more on them.\n",
        "\n",
        "2] Sequential Learning: Each weak learner improves upon the errors of the previous learners.\n",
        "\n",
        "3] Error Reduction: By combining many weak learners, overall bias and error decrease, resulting in a strong predictive model."
      ],
      "metadata": {
        "id": "AZ2dHw7Qph_F"
      }
    },
    {
      "cell_type": "markdown",
      "source": [
        "Question 2: What is the difference between AdaBoost and Gradient Boosting in terms\n",
        "of how models are trained?\n",
        "\n",
        "- 1. Training Approach:\n",
        "\n",
        "AdaBoost: Adjusts weights of misclassified samples after each iteration. Next learner focuses more on difficult samples.\n",
        "\n",
        "Gradient Boosting: Uses gradient descent on a loss function to minimize errors. Each new learner fits the residual errors of the previous model.\n",
        "\n",
        "- 2. Error Handling:\n",
        "\n",
        "AdaBoost: Reweights samples based on classification correctness.\n",
        "\n",
        "Gradient Boosting: Fits the negative gradient of the loss function to reduce residual error.\n",
        "\n",
        "- 3. Loss Function:\n",
        "\n",
        "AdaBoost: Uses exponential loss by default.\n",
        "\n",
        "Gradient Boosting: Flexible; supports custom differentiable loss functions.\n",
        "\n",
        "- 4. Model Dependency:\n",
        "\n",
        "AdaBoost: More sensitive to outliers because it gives very high weight to hard samples.\n",
        "\n",
        "Gradient Boosting: Handles outliers better by optimizing gradients gradually."
      ],
      "metadata": {
        "id": "pQmiRpM0q7jP"
      }
    },
    {
      "cell_type": "markdown",
      "source": [
        "Question 3: How does regularization help in XGBoost?\n",
        "\n",
        "\n",
        "- 1. Controls Overfitting:\n",
        "Regularization adds a penalty term to the objective function for complex models, preventing overfitting by discouraging very deep or large trees.\n",
        "\n",
        "- 2. L1 and L2 Regularization:\n",
        "\n",
        "  L1 (Lasso): Makes some feature weights zero, performing feature selection.\n",
        "\n",
        " L2 (Ridge): Reduces the magnitude of weights, improving generalization.\n",
        "\n",
        "- 3. Smoother Model:\n",
        "By penalizing complexity, XGBoost builds simpler and more stable trees, improving prediction consistency.\n",
        "\n",
        "- 4. Objective Function Integration:\n",
        "Regularization is included directly in the loss function, balancing model fit and complexity during training."
      ],
      "metadata": {
        "id": "mOX86TgQrTNq"
      }
    },
    {
      "cell_type": "markdown",
      "source": [
        "Question 4: Why is CatBoost considered efficient for handling categorical data?\n",
        "\n",
        "- 1. Native Categorical Feature Support:\n",
        "CatBoost handles categorical variables without one-hot encoding, saving memory and computation.\n",
        "\n",
        "- 2. Target-Based Encoding with Permutations:\n",
        "It uses ordered target statistics (based on permutations) to convert categories into numeric values without causing target leakage.\n",
        "\n",
        "- 3. Reduces Overfitting:\n",
        "The permutation-driven encoding technique prevents overfitting by ensuring the model does not see the target value of the current row during transformation.\n",
        "\n",
        "- 4. Efficient with Large Datasets:\n",
        "CatBoost uses optimized algorithms for encoding and gradient boosting, making it fast even with many categorical features."
      ],
      "metadata": {
        "id": "h-fc_WCGr4p2"
      }
    },
    {
      "cell_type": "code",
      "execution_count": 1,
      "metadata": {
        "colab": {
          "base_uri": "https://localhost:8080/"
        },
        "id": "70L1GUbDpSk9",
        "outputId": "4db23417-8635-4cff-a82c-6a4140c39fa0"
      },
      "outputs": [
        {
          "output_type": "stream",
          "name": "stdout",
          "text": [
            "Model Accuracy: 0.9649122807017544\n"
          ]
        }
      ],
      "source": [
        "# Question 6: Write a Python program to:\n",
        "# ● Train an AdaBoost Classifier on the Breast Cancer dataset\n",
        "# ● Print the model accuracy\n",
        "\n",
        "from sklearn.datasets import load_breast_cancer\n",
        "from sklearn.ensemble import AdaBoostClassifier\n",
        "from sklearn.model_selection import train_test_split\n",
        "from sklearn.metrics import accuracy_score\n",
        "\n",
        "# Load dataset\n",
        "data = load_breast_cancer()\n",
        "X, y = data.data, data.target\n",
        "\n",
        "# Split data\n",
        "X_train, X_test, y_train, y_test = train_test_split(X, y, test_size=0.2, random_state=42)\n",
        "\n",
        "# Train AdaBoost Classifier\n",
        "model = AdaBoostClassifier(n_estimators=50, random_state=42)\n",
        "model.fit(X_train, y_train)\n",
        "\n",
        "# Predict and Accuracy\n",
        "y_pred = model.predict(X_test)\n",
        "print(\"Model Accuracy:\", accuracy_score(y_test, y_pred))\n"
      ]
    },
    {
      "cell_type": "code",
      "source": [
        "# Question 7: Write a Python program to:\n",
        "# ● Train a Gradient Boosting Regressor on the California Housing dataset\n",
        "# ● Evaluate performance using R-squared score\n",
        "from sklearn.datasets import fetch_california_housing\n",
        "from sklearn.ensemble import GradientBoostingRegressor\n",
        "from sklearn.model_selection import train_test_split\n",
        "from sklearn.metrics import r2_score\n",
        "\n",
        "# Load dataset\n",
        "data = fetch_california_housing()\n",
        "X, y = data.data, data.target\n",
        "\n",
        "# Split data\n",
        "X_train, X_test, y_train, y_test = train_test_split(X, y, test_size=0.2, random_state=42)\n",
        "\n",
        "# Train Gradient Boosting Regressor\n",
        "model = GradientBoostingRegressor(n_estimators=100, learning_rate=0.1, random_state=42)\n",
        "model.fit(X_train, y_train)\n",
        "\n",
        "# Predict and evaluate\n",
        "y_pred = model.predict(X_test)\n",
        "print(\"R-squared score:\", r2_score(y_test, y_pred))\n"
      ],
      "metadata": {
        "colab": {
          "base_uri": "https://localhost:8080/"
        },
        "id": "DIzbmosltuHv",
        "outputId": "4c0c3db3-700c-4cc4-b175-13c3b73fb52b"
      },
      "execution_count": 2,
      "outputs": [
        {
          "output_type": "stream",
          "name": "stdout",
          "text": [
            "R-squared score: 0.7756446042829697\n"
          ]
        }
      ]
    },
    {
      "cell_type": "code",
      "source": [
        "# Question 8: Write a Python program to:\n",
        "# ● Train an XGBoost Classifier on the Breast Cancer dataset\n",
        "# ● Tune the learning rate using GridSearchCV\n",
        "# ● Print the best parameters and accuracy\n",
        "\n",
        "from sklearn.datasets import load_breast_cancer\n",
        "from xgboost import XGBClassifier\n",
        "from sklearn.model_selection import train_test_split, GridSearchCV\n",
        "from sklearn.metrics import accuracy_score\n",
        "\n",
        "# Load dataset\n",
        "data = load_breast_cancer()\n",
        "X, y = data.data, data.target\n",
        "\n",
        "# Split data\n",
        "X_train, X_test, y_train, y_test = train_test_split(X, y, test_size=0.2, random_state=42)\n",
        "\n",
        "# XGBoost model (warning-free)\n",
        "xgb = XGBClassifier(eval_metric='logloss', random_state=42)\n",
        "\n",
        "# Grid search for learning rate\n",
        "param_grid = {'learning_rate': [0.01, 0.05, 0.1, 0.2]}\n",
        "grid = GridSearchCV(xgb, param_grid, cv=5, scoring='accuracy')\n",
        "grid.fit(X_train, y_train)\n",
        "\n",
        "# Best parameters and accuracy\n",
        "best_model = grid.best_estimator_\n",
        "y_pred = best_model.predict(X_test)\n",
        "print(\"Best Parameters:\", grid.best_params_)\n",
        "print(\"Model Accuracy:\", accuracy_score(y_test, y_pred))\n",
        "\n",
        "\n"
      ],
      "metadata": {
        "colab": {
          "base_uri": "https://localhost:8080/"
        },
        "id": "InccM5OPt_R3",
        "outputId": "c913121d-1ebc-42ed-e995-38ecbf71085a"
      },
      "execution_count": 5,
      "outputs": [
        {
          "output_type": "stream",
          "name": "stdout",
          "text": [
            "Best Parameters: {'learning_rate': 0.2}\n",
            "Model Accuracy: 0.956140350877193\n"
          ]
        }
      ]
    },
    {
      "cell_type": "code",
      "source": [
        "# Question 9: Write a Python program to:\n",
        "# ● Train a CatBoost Classifier\n",
        "# ● Plot the confusion matrix using seaborn\n",
        "\n",
        "from sklearn.datasets import load_breast_cancer\n",
        "from sklearn.model_selection import train_test_split\n",
        "from sklearn.metrics import confusion_matrix\n",
        "from catboost import CatBoostClassifier\n",
        "import seaborn as sns\n",
        "import matplotlib.pyplot as plt\n",
        "\n",
        "# Load dataset\n",
        "data = load_breast_cancer()\n",
        "X, y = data.data, data.target\n",
        "\n",
        "# Split data\n",
        "X_train, X_test, y_train, y_test = train_test_split(X, y, test_size=0.2, random_state=42)\n",
        "\n",
        "# Train CatBoost Classifier\n",
        "model = CatBoostClassifier(verbose=0, random_state=42)\n",
        "model.fit(X_train, y_train)\n",
        "\n",
        "# Predict\n",
        "y_pred = model.predict(X_test)\n",
        "\n",
        "# Confusion matrix\n",
        "cm = confusion_matrix(y_test, y_pred)\n",
        "\n",
        "# Plot using seaborn\n",
        "sns.heatmap(cm, annot=True, fmt='d', cmap='Blues')\n",
        "plt.xlabel('Predicted')\n",
        "plt.ylabel('Actual')\n",
        "plt.title('Confusion Matrix')\n",
        "plt.show()\n",
        "\n",
        "\n",
        "\n"
      ],
      "metadata": {
        "colab": {
          "base_uri": "https://localhost:8080/",
          "height": 472
        },
        "id": "IMR9J8vQuL3R",
        "outputId": "f2dcf072-d5b6-4c0f-e29a-4108e21e457d"
      },
      "execution_count": 8,
      "outputs": [
        {
          "output_type": "display_data",
          "data": {
            "text/plain": [
              "<Figure size 640x480 with 2 Axes>"
            ],
            "image/png": "[encoded data removed]"
          },
          "metadata": {}
        }
      ]
    },
    {
      "cell_type": "markdown",
      "source": [
        "# Question 10: You're working for a FinTech company trying to predict loan default using\n",
        "# customer demographics and transaction behavior.\n",
        "# The dataset is imbalanced, contains missing values, and has both numeric and\n",
        "# categorical features.\n",
        "# Describe your step-by-step data science pipeline using boosting techniques:\n",
        "# ● Data preprocessing & handling missing/categorical values\n",
        "# ● Choice between AdaBoost, XGBoost, or CatBoost\n",
        "# ● Hyperparameter tuning strategy\n",
        "# ● Evaluation metrics you'd choose and why\n",
        "# ● How the business would benefit from your model\n",
        "\n",
        "- 1. Data Preprocessing & Handling Missing/Categorical Values\n",
        "\n",
        "a) Missing values:\n",
        "\n",
        "Numerical → fill with mean/median or use iterative imputer.\n",
        "\n",
        "Categorical → fill with mode or create “missing” category.\n",
        "\n",
        "b) Categorical features:\n",
        "\n",
        "Use CatBoost (native handling), or one-hot / target encoding for XGBoost/AdaBoost.\n",
        "\n",
        "c) Imbalanced data:\n",
        "\n",
        "Use SMOTE / ADASYN / class weights to balance the target classes.\n",
        "\n",
        "d) Feature scaling:\n",
        "\n",
        "Not strictly needed for tree-based models, but optional for numeric stability.\n",
        "\n",
        "2. Choice of Boosting Algorithm\n",
        "\n",
        "CatBoost: Best for mixed categorical + numeric features and robust to overfitting.\n",
        "\n",
        "XGBoost: Fast, handles missing values natively, flexible for hyperparameter tuning.\n",
        "\n",
        "AdaBoost: Simpler, works if data is mostly numeric and balanced.\n",
        "\n",
        "Recommendation: CatBoost or XGBoost for this dataset.\n",
        "\n",
        "3. Hyperparameter Tuning Strategy\n",
        "\n",
        "Use GridSearchCV or RandomizedSearchCV for key parameters:\n",
        "\n",
        "Learning rate, number of estimators, max depth, subsample, colsample_bytree.\n",
        "\n",
        "Use early stopping on validation set to prevent overfitting.\n",
        "\n",
        "4. Evaluation Metrics\n",
        "\n",
        "Accuracy: Not sufficient for imbalanced dataset.\n",
        "\n",
        "Precision / Recall / F1-score: Focus on Recall to catch potential defaulters.\n",
        "\n",
        "ROC-AUC: Measures model’s ranking ability across thresholds.\n",
        "\n",
        "Confusion matrix: For actionable insights on false positives/negatives.\n",
        "\n",
        "5. Business Benefits\n",
        "\n",
        "Reduce loan defaults: Predict risky customers before lending.\n",
        "\n",
        "Targeted interventions: Offer reminders, counseling, or adjusted interest rates.\n",
        "\n",
        "Revenue optimization: Reduce losses while maintaining growth by identifying low-risk borrowers."
      ],
      "metadata": {
        "id": "iEXJuth3vxvw"
      }
    },
    {
      "cell_type": "code",
      "source": [],
      "metadata": {
        "id": "7r-AGI49wTEi"
      },
      "execution_count": null,
      "outputs": []
    }
  ]
}